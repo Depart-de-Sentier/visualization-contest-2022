{
 "cells": [
  {
   "cell_type": "markdown",
   "id": "1a259edb-5608-48f3-9e76-f6bd13bec056",
   "metadata": {},
   "source": [
    "# Visualization contest test fixture creation"
   ]
  },
  {
   "cell_type": "code",
   "execution_count": 29,
   "id": "31ec24f3-42ba-40b6-8c3d-6059dd1cae33",
   "metadata": {},
   "outputs": [],
   "source": [
    "import bw2data as bd\n",
    "import bw2calc as bc\n",
    "import bw2io as bi\n",
    "import numpy as np\n",
    "from tqdm import tqdm\n",
    "from pathlib import Path\n",
    "import pandas as pd\n",
    "import json"
   ]
  },
  {
   "cell_type": "code",
   "execution_count": 2,
   "id": "93036877-6db1-4dbf-925a-26ec7461d5a2",
   "metadata": {},
   "outputs": [],
   "source": [
    "bd.projects.set_current(\"to_dataframe USEEIO\")"
   ]
  },
  {
   "cell_type": "code",
   "execution_count": 3,
   "id": "2134807e-be5d-40fd-9ff0-723607273c44",
   "metadata": {},
   "outputs": [],
   "source": [
    "datadir = Path(\"data\")\n",
    "datadir.mkdir(exist_ok=True)"
   ]
  },
  {
   "cell_type": "markdown",
   "id": "39c5fbec-06fe-418c-a56d-d495b27ee7cc",
   "metadata": {},
   "source": [
    "Install US EEIO database"
   ]
  },
  {
   "cell_type": "code",
   "execution_count": 4,
   "id": "b34a8f17-0e42-4ef6-8228-45ef6e13cf9c",
   "metadata": {},
   "outputs": [
    {
     "name": "stdout",
     "output_type": "stream",
     "text": [
      "US EEIO 1.1 already present\n"
     ]
    }
   ],
   "source": [
    "bi.useeio11()"
   ]
  },
  {
   "cell_type": "markdown",
   "id": "e50973cc-1fb0-45e4-b36f-c3d803cf8108",
   "metadata": {},
   "source": [
    "Write all processes and products to a dataframe"
   ]
  },
  {
   "cell_type": "code",
   "execution_count": 5,
   "id": "ff6292fe-1067-4ee8-b5fa-08b040b566b9",
   "metadata": {},
   "outputs": [],
   "source": [
    "df = bd.Database(\"US EEIO 1.1\").nodes_to_dataframe()"
   ]
  },
  {
   "cell_type": "code",
   "execution_count": 6,
   "id": "f13b1f44-fe4b-4637-b22f-383e09e1ea74",
   "metadata": {},
   "outputs": [],
   "source": [
    "def safe_joiner(x):\n",
    "    try:\n",
    "        if not x or np.isnan(x):\n",
    "            return None\n",
    "    except TypeError:\n",
    "        pass\n",
    "    return \"::\".join(x)"
   ]
  },
  {
   "cell_type": "code",
   "execution_count": 7,
   "id": "f5384e32-b324-496b-9e73-f6f26adabca0",
   "metadata": {},
   "outputs": [],
   "source": [
    "df['categories'] = df['categories'].apply(safe_joiner)"
   ]
  },
  {
   "cell_type": "code",
   "execution_count": 8,
   "id": "30c4bdd5-cde3-409e-9840-f1327443ae0a",
   "metadata": {},
   "outputs": [],
   "source": [
    "def safe_converter(x):\n",
    "    try:\n",
    "        return str(int(x))\n",
    "    except:\n",
    "        return None"
   ]
  },
  {
   "cell_type": "code",
   "execution_count": 9,
   "id": "fe850d9d-927e-448a-a7ca-16c81588ee9d",
   "metadata": {},
   "outputs": [],
   "source": [
    "df['CAS number'] = df['CAS number'].apply(safe_converter)"
   ]
  },
  {
   "cell_type": "code",
   "execution_count": 10,
   "id": "6bd06485-ef97-4c59-89a3-b28467c3393e",
   "metadata": {},
   "outputs": [],
   "source": [
    "df.to_csv(datadir / \"useeio_nodes.csv\", index=False)"
   ]
  },
  {
   "cell_type": "markdown",
   "id": "57efab2d-dd77-418d-8c61-7918a74e01b2",
   "metadata": {},
   "source": [
    "Write all database edges to a dataframe"
   ]
  },
  {
   "cell_type": "code",
   "execution_count": 11,
   "id": "b2ee6b42-e529-4c52-8862-078c264362b7",
   "metadata": {},
   "outputs": [
    {
     "name": "stdout",
     "output_type": "stream",
     "text": [
      "Getting activity data\n"
     ]
    },
    {
     "name": "stderr",
     "output_type": "stream",
     "text": [
      "100%|████████████████████████████████████████████████████████████████████████████████████████████████████████████████████| 2649/2649 [00:00<00:00, 337834.81it/s]\n"
     ]
    },
    {
     "name": "stdout",
     "output_type": "stream",
     "text": [
      "Adding exchange data to activities\n"
     ]
    },
    {
     "name": "stderr",
     "output_type": "stream",
     "text": [
      "100%|█████████████████████████████████████████████████████████████████████████████████████████████████████████████████| 162926/162926 [00:02<00:00, 64456.20it/s]\n"
     ]
    },
    {
     "name": "stdout",
     "output_type": "stream",
     "text": [
      "Filling out exchange data\n"
     ]
    },
    {
     "name": "stderr",
     "output_type": "stream",
     "text": [
      "100%|████████████████████████████████████████████████████████████████████████████████████████████████████████████████████| 2649/2649 [00:00<00:00, 164216.31it/s]\n"
     ]
    },
    {
     "name": "stdout",
     "output_type": "stream",
     "text": [
      "Creating DataFrame\n",
      "Compressing DataFrame\n"
     ]
    }
   ],
   "source": [
    "bd.Database(\"US EEIO 1.1\").edges_to_dataframe().to_csv(datadir / \"useeio_edges.csv\", index=False)"
   ]
  },
  {
   "cell_type": "code",
   "execution_count": 12,
   "id": "b7820738-0e60-4f22-a2c3-b4a4acef9658",
   "metadata": {},
   "outputs": [],
   "source": [
    "product = next(node for node in bd.Database(\"US EEIO 1.1\") if node['type'] == 'product')"
   ]
  },
  {
   "cell_type": "markdown",
   "id": "e73115a1-1f0f-48b6-ae3e-9bafebd1c0a3",
   "metadata": {},
   "source": [
    "Generate an LCA object instance for use later"
   ]
  },
  {
   "cell_type": "code",
   "execution_count": 13,
   "id": "f9c89cd0-9b3e-43f7-ad58-ad692b41f370",
   "metadata": {},
   "outputs": [],
   "source": [
    "lca = bc.LCA({product: 1}, ('Impact Potential', 'ACID'))\n",
    "lca.lci(factorize=True)\n",
    "lca.lcia()"
   ]
  },
  {
   "cell_type": "markdown",
   "id": "42189255-c09c-40d0-8c7d-944b4a409f8f",
   "metadata": {},
   "source": [
    "Write LCA matrices to dataframes"
   ]
  },
  {
   "cell_type": "code",
   "execution_count": 14,
   "id": "545dfbb1-7173-491e-ab0f-f62450b64613",
   "metadata": {},
   "outputs": [],
   "source": [
    "lca.to_dataframe(\"technosphere_matrix\", cutoff=None, annotate=False).to_csv(datadir/ \"useeio_technsophere_matrix.csv\", index=False)"
   ]
  },
  {
   "cell_type": "code",
   "execution_count": 15,
   "id": "a4a9ecef-facf-40a6-aa84-408edb7e2124",
   "metadata": {},
   "outputs": [],
   "source": [
    "lca.to_dataframe(\"biosphere_matrix\", cutoff=None, annotate=False).to_csv(datadir / \"useeio_biosphere_matrix.csv\", index=False)"
   ]
  },
  {
   "cell_type": "markdown",
   "id": "e129b78c-2759-4d4d-a17d-6d6e238b095e",
   "metadata": {},
   "source": [
    "Make dictionary of characterization matrices"
   ]
  },
  {
   "cell_type": "code",
   "execution_count": 16,
   "id": "4488aeaa-4ff5-49ad-9690-ccd087064236",
   "metadata": {},
   "outputs": [],
   "source": [
    "c_matrices = {}\n",
    "\n",
    "lciadir = (datadir / \"characterization\")\n",
    "lciadir.mkdir(exist_ok=True)\n",
    "\n",
    "for method in bd.methods:\n",
    "    lca.switch_method(method)\n",
    "    c_matrices[method] = lca.characterization_matrix.copy()\n",
    "    lca.to_dataframe(\n",
    "        \"characterization_matrix\", \n",
    "        cutoff=None, \n",
    "        annotate=False\n",
    "    ).to_csv(\n",
    "        lciadir / \"useeio_characterization_matrix_{}.csv\".format(\"_\".join(method)), \n",
    "        index=False\n",
    "    )"
   ]
  },
  {
   "cell_type": "code",
   "execution_count": 17,
   "id": "ee6a6f44-f065-498c-8c10-d1cec92ad8b9",
   "metadata": {},
   "outputs": [],
   "source": [
    "proddir = (datadir / \"products\")\n",
    "proddir.mkdir(exist_ok=True)"
   ]
  },
  {
   "cell_type": "markdown",
   "id": "123803c2-0e19-4485-8a77-c19512eaf923",
   "metadata": {},
   "source": [
    "Write characterized inventory LCA result matrices for all products and all impact categories in the US EEIO"
   ]
  },
  {
   "cell_type": "code",
   "execution_count": 18,
   "id": "2e30a02c-2773-4ac5-a448-084a0018a003",
   "metadata": {},
   "outputs": [
    {
     "name": "stderr",
     "output_type": "stream",
     "text": [
      "100%|██████████████████████████████████████████████████████████████████████████████████████████████████████████████████████████| 388/388 [00:29<00:00, 13.04it/s]\n"
     ]
    }
   ],
   "source": [
    "lca_results = []\n",
    "\n",
    "products = [node for node in bd.Database(\"US EEIO 1.1\") if node['type'] == 'product']\n",
    "\n",
    "for product in tqdm(products):\n",
    "    row = {'name': product['name'], 'id': product.id}\n",
    "    thisdir = (proddir / str(product.id))\n",
    "    thisdir.mkdir(exist_ok=True)\n",
    "    lca.lci({product.id: 1})\n",
    "\n",
    "    for label, matrix in c_matrices.items():\n",
    "        lca.characterization_matrix = matrix\n",
    "        lca.lcia_calculation()\n",
    "        \n",
    "        row[\"_\".join(label)] = lca.score\n",
    "        lca.to_dataframe(\n",
    "            \"characterized_inventory\", \n",
    "            cutoff=1000, \n",
    "            annotate=False\n",
    "        ).to_csv(\n",
    "            thisdir / \"characterized_inventory_{}_{}.csv\".format(product.id, \"_\".join(label)), \n",
    "            index=False,\n",
    "        )\n",
    "    \n",
    "    lca_results.append(row)"
   ]
  },
  {
   "cell_type": "markdown",
   "id": "8240a78e-a7d0-4e1b-b98e-de7d0119638d",
   "metadata": {},
   "source": [
    "Write dataframe with just the summed total scores for all products and all impact categories"
   ]
  },
  {
   "cell_type": "code",
   "execution_count": 19,
   "id": "faa05497-ec6e-416f-bd42-c4176d55dd4d",
   "metadata": {},
   "outputs": [],
   "source": [
    "pd.DataFrame(lca_results).to_csv(datadir/ \"useeio_product_scores.csv\", index=False)"
   ]
  },
  {
   "cell_type": "markdown",
   "id": "3460b687-0414-40cf-94e4-52e5c9815819",
   "metadata": {},
   "source": [
    "Write the graph structure tracing the flow of impacts for four impact categories and the top five products in each impact category"
   ]
  },
  {
   "cell_type": "code",
   "execution_count": 20,
   "id": "4cde6717-1f37-4e36-8079-915fa5e5e69f",
   "metadata": {},
   "outputs": [],
   "source": [
    "graphdir = (datadir / \"graphs\")\n",
    "graphdir.mkdir(exist_ok=True)"
   ]
  },
  {
   "cell_type": "code",
   "execution_count": 21,
   "id": "8cab2b9a-2c9b-46dc-8af9-4dc38b47bca3",
   "metadata": {},
   "outputs": [],
   "source": [
    "method_selection = [\n",
    "    ('Impact Potential', 'GCC'),\n",
    "    ('Impact Potential', 'HTOX'),\n",
    "    ('Resource Use', 'LAND'),\n",
    "    ('Resource Use', 'WATR'),\n",
    "]"
   ]
  },
  {
   "cell_type": "code",
   "execution_count": 22,
   "id": "ecd4c993-dae5-4417-932d-1330f5bfccad",
   "metadata": {},
   "outputs": [],
   "source": [
    "lca_results.sort(key=lambda x: x['Impact Potential_GCC'], reverse=True)"
   ]
  },
  {
   "cell_type": "code",
   "execution_count": 30,
   "id": "53605ed6-4fc7-4020-af26-92ffb9c799ca",
   "metadata": {},
   "outputs": [
    {
     "name": "stdout",
     "output_type": "stream",
     "text": [
      "('Impact Potential', 'GCC')\n",
      "('Impact Potential', 'HTOX')\n",
      "('Resource Use', 'LAND')\n",
      "('Resource Use', 'WATR')\n"
     ]
    }
   ],
   "source": [
    "for selected_method in method_selection:\n",
    "    print(selected_method)\n",
    "    lca.characterization_matrix = c_matrices[selected_method]\n",
    "    lca_results.sort(key=lambda x: x[\"_\".join(selected_method)], reverse=True)    \n",
    "    for row, _ in zip(lca_results, range(5)):\n",
    "        lca.lcia({row['id']: 1})\n",
    "        gt = bc.MultifunctionalGraphTraversal().calculate(lca, cutoff=0.0025)\n",
    "        with open(graphdir / \"{}-{}.json\".format(row['id'], \"_\".join(selected_method)), \"w\") as f:\n",
    "            json.dump(gt, f, sort_keys=True, indent=2)"
   ]
  }
 ],
 "metadata": {
  "kernelspec": {
   "display_name": "Python 3 (ipykernel)",
   "language": "python",
   "name": "python3"
  },
  "language_info": {
   "codemirror_mode": {
    "name": "ipython",
    "version": 3
   },
   "file_extension": ".py",
   "mimetype": "text/x-python",
   "name": "python",
   "nbconvert_exporter": "python",
   "pygments_lexer": "ipython3",
   "version": "3.10.6"
  }
 },
 "nbformat": 4,
 "nbformat_minor": 5
}
